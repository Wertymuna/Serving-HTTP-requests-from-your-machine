{
  "cells": [
    {
      "cell_type": "markdown",
      "metadata": {
        "id": "view-in-github",
        "colab_type": "text"
      },
      "source": [
        "<a href=\"https://colab.research.google.com/github/Wertymuna/Serving-HTTP-requests-from-your-machine/blob/main/Serving_HTTP_requests_from_your_machine.ipynb\" target=\"_parent\"><img src=\"https://colab.research.google.com/assets/colab-badge.svg\" alt=\"Open In Colab\"/></a>"
      ]
    },
    {
      "cell_type": "code",
      "execution_count": 16,
      "metadata": {
        "colab": {
          "base_uri": "https://localhost:8080/",
          "height": 86
        },
        "id": "zwLJpS6BF1dK",
        "outputId": "900cadc1-c3a5-45d9-9dcf-8bf4680ca66d"
      },
      "outputs": [
        {
          "output_type": "stream",
          "name": "stdout",
          "text": [
            "\u001b[31mWarning: This function may stop working due to changes in browser security.\n",
            "Try `serve_kernel_port_as_iframe` instead. \u001b[0m\n"
          ]
        },
        {
          "output_type": "display_data",
          "data": {
            "text/plain": [
              "<IPython.core.display.Javascript object>"
            ],
            "application/javascript": [
              "(async (port, path, text, element) => {\n",
              "    if (!google.colab.kernel.accessAllowed) {\n",
              "      return;\n",
              "    }\n",
              "    element.appendChild(document.createTextNode(''));\n",
              "    const url = await google.colab.kernel.proxyPort(port);\n",
              "    const anchor = document.createElement('a');\n",
              "    anchor.href = new URL(path, url).toString();\n",
              "    anchor.target = '_blank';\n",
              "    anchor.setAttribute('data-href', url + path);\n",
              "    anchor.textContent = text;\n",
              "    element.appendChild(anchor);\n",
              "  })(8809, \"/\", \"https://localhost:8809/\", window.element)"
            ]
          },
          "metadata": {}
        },
        {
          "output_type": "stream",
          "name": "stdout",
          "text": [
            "Terjadi kesalahan: [Errno 98] Address already in use\n"
          ]
        }
      ],
      "source": [
        "import argparse\n",
        "from http.server import BaseHTTPRequestHandler, HTTPServer\n",
        "import threading\n",
        "from google.colab import output  # Tambahkan ini jika berjalan di Google Colab\n",
        "\n",
        "# Konfigurasi default\n",
        "DEFAULT_HOST = '127.0.0.1'\n",
        "DEFAULT_PORT = 8809\n",
        "\n",
        "class RequestHandler(BaseHTTPRequestHandler):\n",
        "    \"\"\"Custom request handler\"\"\"\n",
        "\n",
        "    def do_GET(self):\n",
        "        \"\"\"Handler untuk permintaan GET\"\"\"\n",
        "        # Mengirim status respons 200 (OK)\n",
        "        self.send_response(200)\n",
        "        # Menentukan tipe konten\n",
        "        self.send_header('Content-type', 'text/html')\n",
        "        self.end_headers()\n",
        "        # Mengirimkan pesan ke browser\n",
        "        self.wfile.write(b\"<h1>Hello from server!</h1>\")\n",
        "        return\n",
        "\n",
        "class CustomHTTPServer(HTTPServer):\n",
        "    \"\"\"Custom HTTP server\"\"\"\n",
        "\n",
        "    def __init__(self, host, port):\n",
        "        # Inisialisasi server dengan alamat dan handler\n",
        "        server_address = (host, port)\n",
        "        super().__init__(server_address, RequestHandler)\n",
        "\n",
        "def run_server(host=DEFAULT_HOST, port=DEFAULT_PORT):\n",
        "    \"\"\"Fungsi untuk menjalankan server\"\"\"\n",
        "    try:\n",
        "        server = CustomHTTPServer(host, port)\n",
        "        print(f\"Custom HTTP server berjalan di {host}:{port}\")\n",
        "        server.serve_forever()\n",
        "    except KeyboardInterrupt:\n",
        "        print(\"\\nServer dihentikan.\")\n",
        "        server.server_close()\n",
        "    except Exception as err:\n",
        "        print(f\"Terjadi kesalahan: {err}\")\n",
        "\n",
        "if __name__ == \"__main__\":\n",
        "    # Menangani argumen dari command line atau gunakan default\n",
        "    parser = argparse.ArgumentParser(description='Simple HTTP Server Example')\n",
        "    parser.add_argument('--port', action=\"store\", dest=\"port\", type=int, default=DEFAULT_PORT,\n",
        "                        help=\"Port untuk menjalankan server (default: 8800)\")\n",
        "    args, unknown = parser.parse_known_args()  # Abaikan argumen yang tidak dikenali\n",
        "    port = args.port\n",
        "\n",
        "    # Jalankan server di thread terpisah\n",
        "    thread = threading.Thread(target=run_server, args=(DEFAULT_HOST, port), daemon=True)\n",
        "    thread.start()\n",
        "\n",
        "    # Jika berjalan di Google Colab, tampilkan akses ke server\n",
        "    try:\n",
        "        output.serve_kernel_port_as_window(port)\n",
        "    except ModuleNotFoundError:\n",
        "        print(f\"Server berjalan di http://{DEFAULT_HOST}:{port}\")\n"
      ]
    },
    {
      "cell_type": "code",
      "source": [],
      "metadata": {
        "id": "3AGHOw9lNTE6"
      },
      "execution_count": null,
      "outputs": []
    }
  ],
  "metadata": {
    "colab": {
      "provenance": [],
      "authorship_tag": "ABX9TyOcT/RvxkteuzAxRCGqkRSq",
      "include_colab_link": true
    },
    "kernelspec": {
      "display_name": "Python 3",
      "name": "python3"
    },
    "language_info": {
      "name": "python"
    }
  },
  "nbformat": 4,
  "nbformat_minor": 0
}